{
 "cells": [
  {
   "cell_type": "markdown",
   "metadata": {},
   "source": [
    "# Yet another *Python 101*\n",
    "* In this class, we'll introduce the Python language from scratch.\n",
    "* No previous experience with Python is required.\n",
    "* The class is meant to be interactive and disruptive, so you're more than welcome to interrupt me at any time to say / ask something, or crack a joke.\n",
    "\n",
    "Content\n",
    "=======\n",
    "* Basic material like printing, strings, dictionaries, casting, functions, modules, globbling, plotting (histograms, scatter plots, colorbars, error bars, etc.) will be covered.\n",
    "* The later classes (tomorrow ?) will be more specialized. We'll see how to do brain science using Python. We'll focus on the [nilearn](http://nilearn.github.io) package (and talk a bit about nipy and nipype if necessary)."
   ]
  },
  {
   "cell_type": "markdown",
   "metadata": {},
   "source": [
    "Printing\n",
    "========"
   ]
  },
  {
   "cell_type": "code",
   "execution_count": 1,
   "metadata": {
    "collapsed": false
   },
   "outputs": [
    {
     "name": "stdout",
     "output_type": "stream",
     "text": [
      "Hello, World!\n"
     ]
    }
   ],
   "source": [
    "# The irreducible Hello-World example, present in any Turning-incomplete language <== this is a comment, not exec'ed\n",
    "print \"Hello, World!\"  # in python 3, replace with print(\"Hello, World! Python 2 is much cooler\")"
   ]
  },
  {
   "cell_type": "code",
   "execution_count": 2,
   "metadata": {
    "collapsed": false
   },
   "outputs": [
    {
     "name": "stdout",
     "output_type": "stream",
     "text": [
      "Aix-la-Chapelle is another name for Aachen.\n"
     ]
    }
   ],
   "source": [
    "print \"Aix-la-Chapelle is another name for Aachen.\"  # this is a comment too"
   ]
  },
  {
   "cell_type": "code",
   "execution_count": 3,
   "metadata": {
    "collapsed": false
   },
   "outputs": [
    {
     "name": "stdout",
     "output_type": "stream",
     "text": [
      "2\n"
     ]
    }
   ],
   "source": [
    "print 1 + 1  # more on arithmetic latter"
   ]
  },
  {
   "cell_type": "markdown",
   "metadata": {},
   "source": [
    "Strings and other goodies\n",
    "========================="
   ]
  },
  {
   "cell_type": "code",
   "execution_count": 4,
   "metadata": {
    "collapsed": false
   },
   "outputs": [
    {
     "name": "stdout",
     "output_type": "stream",
     "text": [
      "Hello, Sponge Bob!\n"
     ]
    }
   ],
   "source": [
    "template = \"Hello, %s!\"  # more on variables latter\n",
    "print template % \"Sponge Bob\""
   ]
  },
  {
   "cell_type": "code",
   "execution_count": 5,
   "metadata": {
    "collapsed": false
   },
   "outputs": [
    {
     "name": "stdout",
     "output_type": "stream",
     "text": [
      "Hello, Sponge Bob. 1 + 2 = 3.\n"
     ]
    }
   ],
   "source": [
    "template = \"Hello, %s. %i + %i = %i.\"\n",
    "print template % (\"Sponge Bob\", 1, 2, 3)"
   ]
  },
  {
   "cell_type": "code",
   "execution_count": 6,
   "metadata": {
    "collapsed": false
   },
   "outputs": [
    {
     "name": "stdout",
     "output_type": "stream",
     "text": [
      "\n",
      "jhjehehjeh iueiueiueiueieuieie jhjehehjeh iueiueiueiueieuieie jhjehehjeh iueiueiueiueieuieie jhjehehjeh iueiueiueiueieuieie\n",
      "jhjehehjeh iueiueiueiueieuieie jhjehehjeh iueiueiueiueieuieie jhjehehjeh iueiueiueiueieuieie jhjehehjeh iueiueiueiueieuieie jhjehehjeh iueiueiueiueieuieie\n",
      "\n"
     ]
    }
   ],
   "source": [
    "garbage = \"\"\"\n",
    "jhjehehjeh iueiueiueiueieuieie jhjehehjeh iueiueiueiueieuieie jhjehehjeh iueiueiueiueieuieie jhjehehjeh iueiueiueiueieuieie\n",
    "jhjehehjeh iueiueiueiueieuieie jhjehehjeh iueiueiueiueieuieie jhjehehjeh iueiueiueiueieuieie jhjehehjeh iueiueiueiueieuieie jhjehehjeh iueiueiueiueieuieie\n",
    "\"\"\"  # another way to do strings: using triple quotes \"\"\"\n",
    "print garbage"
   ]
  },
  {
   "cell_type": "markdown",
   "metadata": {},
   "source": [
    "Splitting and joining strings\n",
    "-----------------------------\n",
    "You can split a string w.r.t to some delimiter. You can also join a list of strings along a given delimiter."
   ]
  },
  {
   "cell_type": "code",
   "execution_count": 7,
   "metadata": {
    "collapsed": false
   },
   "outputs": [
    {
     "name": "stdout",
     "output_type": "stream",
     "text": [
      "Hello, I'm Mr. Bumble!\n",
      "['Hello,', \"I'm\", 'Mr.', 'Bumble!']\n"
     ]
    }
   ],
   "source": [
    "raw = \"Hello, I'm Mr. Bumble!\"\n",
    "print raw\n",
    "parts = raw.split(\" \")\n",
    "print parts"
   ]
  },
  {
   "cell_type": "code",
   "execution_count": 8,
   "metadata": {
    "collapsed": false
   },
   "outputs": [
    {
     "name": "stdout",
     "output_type": "stream",
     "text": [
      "Hello, I'm Mr. Bumble!\n"
     ]
    }
   ],
   "source": [
    "print \" \".join(parts)"
   ]
  },
  {
   "cell_type": "code",
   "execution_count": 9,
   "metadata": {
    "collapsed": false
   },
   "outputs": [
    {
     "name": "stdout",
     "output_type": "stream",
     "text": [
      "/disk/func.nii\n"
     ]
    }
   ],
   "source": [
    "dirname = \"/disk\"\n",
    "basename = \"func.nii\"\n",
    "fullpath = \"/\".join([dirname, basename])  # XXX the proper way for splitting and join paths is using the os module as we'll see later\n",
    "print fullpath"
   ]
  },
  {
   "cell_type": "code",
   "execution_count": 10,
   "metadata": {
    "collapsed": false
   },
   "outputs": [
    {
     "name": "stdout",
     "output_type": "stream",
     "text": [
      "['', 'disk', 'func.nii']\n"
     ]
    }
   ],
   "source": [
    "print fullpath.split(\"/\")"
   ]
  },
  {
   "cell_type": "markdown",
   "metadata": {},
   "source": [
    "Interlude: Getting user input interactively\n",
    "===========================================\n",
    "Often, it happens that we want our script to interactively get (text) input from the use, and then take some action."
   ]
  },
  {
   "cell_type": "code",
   "execution_count": 11,
   "metadata": {
    "collapsed": false
   },
   "outputs": [
    {
     "name": "stdout",
     "output_type": "stream",
     "text": [
      "Your name, please: Elvis\n",
      "Hello, Elvis!\n"
     ]
    }
   ],
   "source": [
    "name = raw_input(\"Your name, please: \")  # in Python 3, raplace with input(\"Your name, please:\")\n",
    "print \"Hello, %s!\" % name"
   ]
  },
  {
   "cell_type": "markdown",
   "metadata": {},
   "source": [
    "Numerics\n",
    "========\n",
    "Example: Computing simple interests\n",
    "-----------------------------------"
   ]
  },
  {
   "cell_type": "code",
   "execution_count": 12,
   "metadata": {
    "collapsed": false
   },
   "outputs": [
    {
     "name": "stdout",
     "output_type": "stream",
     "text": [
      "Interest rate = 0.100000 principal = 500.000000 euros, time = 3.000000. Therefore new amount = 665.500000 euros.\n"
     ]
    }
   ],
   "source": [
    "# the following are variables\n",
    "interest_rate = .1 # a fraction\n",
    "principal = 500  # euros\n",
    "time = 3# years\n",
    "amount = principal * (1 + interest_rate)** time  # euros\n",
    "print \"Interest rate = %f principal = %f euros, time = %f. Therefore new amount = %f euros.\" % (interest_rate, principal, time, amount)"
   ]
  },
  {
   "cell_type": "code",
   "execution_count": 13,
   "metadata": {
    "collapsed": false
   },
   "outputs": [
    {
     "name": "stdout",
     "output_type": "stream",
     "text": [
      "Interest rate = 0.10, principal = 500.00, time = 3.000000 years. Therefore new amount = 665.50.\n"
     ]
    }
   ],
   "source": [
    "print \"Interest rate = %.2f, principal = %.2f, time = %f years. Therefore new amount = %.2f.\" % (interest_rate, principal, time, amount)"
   ]
  },
  {
   "cell_type": "markdown",
   "metadata": {},
   "source": [
    "Converting strings to numbers\n",
    "-----------------------------"
   ]
  },
  {
   "cell_type": "code",
   "execution_count": 14,
   "metadata": {
    "collapsed": false
   },
   "outputs": [
    {
     "name": "stdout",
     "output_type": "stream",
     "text": [
      "41\n"
     ]
    }
   ],
   "source": [
    "age = \"40\"\n",
    "print int(age) + 1"
   ]
  },
  {
   "cell_type": "markdown",
   "metadata": {},
   "source": [
    "Dictionaries\n",
    "============\n",
    "A dictionary is a data structure for storing key-value pairs. For example, a person might have a name \"Semga\", age 45, weight 95, etc..."
   ]
  },
  {
   "cell_type": "code",
   "execution_count": 15,
   "metadata": {
    "collapsed": false
   },
   "outputs": [
    {
     "name": "stdout",
     "output_type": "stream",
     "text": [
      "Semga is 45 and weighs at 95.\n"
     ]
    }
   ],
   "source": [
    "person = {\"name\": \"Semga\", \"age\": 45, \"weight\": 95}\n",
    "print \"%s is %i and weighs at %i.\" % (person[\"name\"], person[\"age\"], person[\"weight\"])"
   ]
  },
  {
   "cell_type": "markdown",
   "metadata": {},
   "source": [
    "**Another way to do dictionaries...**"
   ]
  },
  {
   "cell_type": "code",
   "execution_count": 16,
   "metadata": {
    "collapsed": false
   },
   "outputs": [
    {
     "name": "stdout",
     "output_type": "stream",
     "text": [
      "Semga is 45 and weighs at 95.\n"
     ]
    }
   ],
   "source": [
    "person = dict(name=\"Semga\", age=45, weight=95)\n",
    "print \"%s is %i and weighs at %i.\" % (person[\"name\"], person[\"age\"], person[\"weight\"])"
   ]
  },
  {
   "cell_type": "markdown",
   "metadata": {},
   "source": [
    "Dictionaries have keys..."
   ]
  },
  {
   "cell_type": "code",
   "execution_count": 17,
   "metadata": {
    "collapsed": false
   },
   "outputs": [
    {
     "name": "stdout",
     "output_type": "stream",
     "text": [
      "['age', 'name', 'weight']\n"
     ]
    }
   ],
   "source": [
    "print person.keys()"
   ]
  },
  {
   "cell_type": "markdown",
   "metadata": {},
   "source": [
    "and values.."
   ]
  },
  {
   "cell_type": "code",
   "execution_count": 18,
   "metadata": {
    "collapsed": false
   },
   "outputs": [
    {
     "name": "stdout",
     "output_type": "stream",
     "text": [
      "[45, 'Semga', 95]\n"
     ]
    }
   ],
   "source": [
    "print person.values()"
   ]
  },
  {
   "cell_type": "markdown",
   "metadata": {},
   "source": [
    "You can change the value associate with a dictionary key"
   ]
  },
  {
   "cell_type": "code",
   "execution_count": 19,
   "metadata": {
    "collapsed": false
   },
   "outputs": [
    {
     "name": "stdout",
     "output_type": "stream",
     "text": [
      "Semga (aka ghost rider) is 46 and weighs at 95.\n"
     ]
    }
   ],
   "source": [
    "person[\"age\"] += 1\n",
    "person[\"name\"] = \"Semga (aka ghost rider)\"\n",
    "print \"%s is %i and weighs at %i.\" % (person[\"name\"], person[\"age\"], person[\"weight\"])\n"
   ]
  },
  {
   "cell_type": "markdown",
   "metadata": {},
   "source": [
    "You can delete stuff from a dictionary"
   ]
  },
  {
   "cell_type": "code",
   "execution_count": 20,
   "metadata": {
    "collapsed": false
   },
   "outputs": [
    {
     "name": "stdout",
     "output_type": "stream",
     "text": [
      "{'age': 45, 'name': 'Semga', 'weight': 95}\n",
      "Deleting age\n",
      "{'name': 'Semga', 'weight': 95}\n",
      "Deleting weight\n",
      "{'name': 'Semga'}\n"
     ]
    }
   ],
   "source": [
    "person = dict(name=\"Semga\", age=45, weight=95)\n",
    "print person\n",
    "print \"Deleting age\"\n",
    "del person[\"age\"]\n",
    "print person\n",
    "print \"Deleting weight\"\n",
    "weight = person.pop(\"weight\")\n",
    "print person"
   ]
  },
  {
   "cell_type": "markdown",
   "metadata": {},
   "source": [
    "Conditionals\n",
    "============\n",
    "Conditionals are control \"constructs\" that let you execute branches of a code, under specific conditions.\n",
    "The *if* conditional\n",
    "--------------------\n",
    "Execute a code segment if a given condition is satisfied, otherwise skip it.\n"
   ]
  },
  {
   "cell_type": "code",
   "execution_count": 21,
   "metadata": {
    "collapsed": true
   },
   "outputs": [],
   "source": [
    "a = 1\n",
    "b = 1 - 1 + 1\n",
    "if a < b:\n",
    "    print \"a < b\""
   ]
  },
  {
   "cell_type": "markdown",
   "metadata": {},
   "source": [
    "The *if-else* conditional\n",
    "-------------------------\n",
    "Execute a code segment if a given condition is satisfied; otherwise do something else."
   ]
  },
  {
   "cell_type": "code",
   "execution_count": 22,
   "metadata": {
    "collapsed": false
   },
   "outputs": [
    {
     "name": "stdout",
     "output_type": "stream",
     "text": [
      "a >= b\n"
     ]
    }
   ],
   "source": [
    "if a < b:\n",
    "    print \"a < b\"\n",
    "else:\n",
    "    print \"a >= b\""
   ]
  },
  {
   "cell_type": "markdown",
   "metadata": {},
   "source": [
    "The *if-elif-else* conditional\n",
    "------------------------------\n",
    "Execude a code segment if a given condition is satisfied; otherwise execute another code segment if its associate conditon is satisfied, and so on and so forth. Otherwise, execute some default code."
   ]
  },
  {
   "cell_type": "code",
   "execution_count": 23,
   "metadata": {
    "collapsed": false
   },
   "outputs": [
    {
     "name": "stdout",
     "output_type": "stream",
     "text": [
      "a == b\n"
     ]
    }
   ],
   "source": [
    "if a < b:\n",
    "    print \"a < b\"\n",
    "elif a > b:\n",
    "    print \"a > b\"\n",
    "else:\n",
    "    print \"a == b\""
   ]
  },
  {
   "cell_type": "markdown",
   "metadata": {},
   "source": [
    "Loops\n",
    "=====\n",
    "Looks make you run some code in a repeated manner. Automation starts here!\n",
    "\n",
    "*for* loops\n",
    "-----------\n",
    "Do something about a collection of things..."
   ]
  },
  {
   "cell_type": "code",
   "execution_count": 24,
   "metadata": {
    "collapsed": false
   },
   "outputs": [
    {
     "name": "stdout",
     "output_type": "stream",
     "text": [
      "Hello, Bobga! Welcome abord!\n",
      "Hello, Alex! Welcome abord!\n",
      "Hello, Semga! Welcome abord!\n",
      "Hello, Dopgima! Welcome abord!\n",
      "Hello, Karin! Welcome abord!\n",
      "Hello, Kah! Welcome abord!\n",
      "Hello, Mary! Welcome abord!\n"
     ]
    }
   ],
   "source": [
    "for person in [\"Bobga\", \"Alex\", \"Semga\", \"Dopgima\", \"Karin\", \"Kah\", \"Mary\"]:\n",
    "    print \"Hello, %s! Welcome abord!\" % person"
   ]
  },
  {
   "cell_type": "markdown",
   "metadata": {},
   "source": [
    "**You can modify variables in a loop**"
   ]
  },
  {
   "cell_type": "code",
   "execution_count": 25,
   "metadata": {
    "collapsed": false
   },
   "outputs": [
    {
     "name": "stdout",
     "output_type": "stream",
     "text": [
      "[1] Hello, Bobga! Welcome abord!\n",
      "[2] Hello, Alex! Welcome abord!\n",
      "[3] Hello, Semga! Welcome abord!\n",
      "[4] Hello, Dopgima! Welcome abord!\n",
      "[5] Hello, Karin! Welcome abord!\n",
      "[6] Hello, Kah! Welcome abord!\n",
      "[7] Hello, Mary! Welcome abord!\n"
     ]
    }
   ],
   "source": [
    "cnt = 0\n",
    "for person in [\"Bobga\", \"Alex\", \"Semga\", \"Dopgima\", \"Karin\", \"Kah\", \"Mary\"]:\n",
    "    print \"[%i] Hello, %s! Welcome abord!\" % (cnt + 1, person)\n",
    "    cnt += 1  # this means: new cnt = old cnt + 1, i.e increment cnt by 1\n"
   ]
  },
  {
   "cell_type": "markdown",
   "metadata": {},
   "source": [
    "*while* loops\n",
    "-------------\n",
    "Keep doing something, as long as some condition is being respected / satisfied."
   ]
  },
  {
   "cell_type": "code",
   "execution_count": 26,
   "metadata": {
    "collapsed": false
   },
   "outputs": [
    {
     "name": "stdout",
     "output_type": "stream",
     "text": [
      "[1] Hello, Mary! Welcome abord!\n",
      "[2] Hello, Mary! Welcome abord!\n",
      "[3] Hello, Mary! Welcome abord!\n",
      "[4] Hello, Mary! Welcome abord!\n",
      "[5] Hello, Mary! Welcome abord!\n",
      "[6] Hello, Mary! Welcome abord!\n",
      "[7] Hello, Mary! Welcome abord!\n"
     ]
    }
   ],
   "source": [
    "persons = [\"Bobga\", \"Alex\", \"Semga\", \"Dopgima\", \"Karin\", \"Kah\", \"Mary\"]\n",
    "cnt = 0\n",
    "while cnt < len(persons):\n",
    "    print \"[%i] Hello, %s! Welcome abord!\" % (cnt + 1, person)\n",
    "    cnt += 1"
   ]
  },
  {
   "cell_type": "markdown",
   "metadata": {},
   "source": [
    "Functions\n",
    "=======\n",
    "Functions are the building blocks of any software."
   ]
  },
  {
   "cell_type": "code",
   "execution_count": 27,
   "metadata": {
    "collapsed": true
   },
   "outputs": [],
   "source": [
    "def addition(a, b):  # The \"def\" tells Python we're defining a function. a and b are arguments of the funciton\n",
    "    output = a + b  # do some computation and store the results\n",
    "    return output  # return the result"
   ]
  },
  {
   "cell_type": "code",
   "execution_count": 28,
   "metadata": {
    "collapsed": false
   },
   "outputs": [
    {
     "data": {
      "text/plain": [
       "3"
      ]
     },
     "execution_count": 28,
     "metadata": {},
     "output_type": "execute_result"
    }
   ],
   "source": [
    "addition(1, 2)"
   ]
  },
  {
   "cell_type": "markdown",
   "metadata": {},
   "source": [
    "A function without an argument is perfectly fine..."
   ]
  },
  {
   "cell_type": "code",
   "execution_count": 29,
   "metadata": {
    "collapsed": true
   },
   "outputs": [],
   "source": [
    "def print_banner():\n",
    "    print \"+\" * 11\n",
    "    print \"fMRI rules!\"\n",
    "    print \"+\" * 11"
   ]
  },
  {
   "cell_type": "code",
   "execution_count": 30,
   "metadata": {
    "collapsed": false
   },
   "outputs": [
    {
     "name": "stdout",
     "output_type": "stream",
     "text": [
      "+++++++++++\n",
      "fMRI rules!\n",
      "+++++++++++\n"
     ]
    }
   ],
   "source": [
    "print_banner()"
   ]
  },
  {
   "cell_type": "markdown",
   "metadata": {},
   "source": [
    "Functions can have default arguments"
   ]
  },
  {
   "cell_type": "code",
   "execution_count": 31,
   "metadata": {
    "collapsed": true
   },
   "outputs": [],
   "source": [
    "def print_banner(times=1):\n",
    "    for _ in range(times):\n",
    "        print \"+\" * 11\n",
    "        print \"fMRI rules!\"\n",
    "        print \"+\" * 11\n",
    "        print"
   ]
  },
  {
   "cell_type": "code",
   "execution_count": 32,
   "metadata": {
    "collapsed": false
   },
   "outputs": [
    {
     "name": "stdout",
     "output_type": "stream",
     "text": [
      "+++++++++++\n",
      "fMRI rules!\n",
      "+++++++++++\n",
      "\n"
     ]
    }
   ],
   "source": [
    "print_banner()"
   ]
  },
  {
   "cell_type": "code",
   "execution_count": 33,
   "metadata": {
    "collapsed": false
   },
   "outputs": [
    {
     "name": "stdout",
     "output_type": "stream",
     "text": [
      "+++++++++++\n",
      "fMRI rules!\n",
      "+++++++++++\n",
      "\n",
      "+++++++++++\n",
      "fMRI rules!\n",
      "+++++++++++\n",
      "\n",
      "+++++++++++\n",
      "fMRI rules!\n",
      "+++++++++++\n",
      "\n",
      "+++++++++++\n",
      "fMRI rules!\n",
      "+++++++++++\n",
      "\n",
      "+++++++++++\n",
      "fMRI rules!\n",
      "+++++++++++\n",
      "\n"
     ]
    }
   ],
   "source": [
    "print_banner(times=5)"
   ]
  },
  {
   "cell_type": "markdown",
   "metadata": {},
   "source": [
    "Applying the same function to a list of items\n",
    "-------------------"
   ]
  },
  {
   "cell_type": "code",
   "execution_count": 34,
   "metadata": {
    "collapsed": false
   },
   "outputs": [
    {
     "data": {
      "text/plain": [
       "[0, 1, 4, 9, 16, 25, 36, 49, 64, 81]"
      ]
     },
     "execution_count": 34,
     "metadata": {},
     "output_type": "execute_result"
    }
   ],
   "source": [
    "def square(x):\n",
    "    \"\"\"Computes the square of the input.\"\"\"\n",
    "    return x ** 2\n",
    "[square(x) for x in range(10)]\n"
   ]
  },
  {
   "cell_type": "markdown",
   "metadata": {},
   "source": [
    "or..."
   ]
  },
  {
   "cell_type": "code",
   "execution_count": 35,
   "metadata": {
    "collapsed": false
   },
   "outputs": [
    {
     "data": {
      "text/plain": [
       "[0, 1, 4, 9, 16, 25, 36, 49, 64, 81]"
      ]
     },
     "execution_count": 35,
     "metadata": {},
     "output_type": "execute_result"
    }
   ],
   "source": [
    "map(square, range(10))"
   ]
  },
  {
   "cell_type": "markdown",
   "metadata": {},
   "source": [
    "or..."
   ]
  },
  {
   "cell_type": "code",
   "execution_count": 36,
   "metadata": {
    "collapsed": false
   },
   "outputs": [
    {
     "name": "stdout",
     "output_type": "stream",
     "text": [
      "[0, 1, 4, 9, 16, 25, 36, 49, 64, 81]\n"
     ]
    }
   ],
   "source": [
    "ys = []\n",
    "for x in range(10):\n",
    "    ys.append(square(x))\n",
    "print ys"
   ]
  },
  {
   "cell_type": "markdown",
   "metadata": {},
   "source": [
    "Modules\n",
    "=======\n",
    "A module is a **logical unit of software**. This a building block and **implements a specific functionality or group of tightly connected functionalities**. In the same project / package, you can have a module for plotting figures, a module for doing linear algebra, a module for crawling the web, a module for doing i/o stuff (reading files, writing files, etc.)"
   ]
  },
  {
   "cell_type": "code",
   "execution_count": 37,
   "metadata": {
    "collapsed": false
   },
   "outputs": [
    {
     "name": "stdout",
     "output_type": "stream",
     "text": [
      "time.struct_time(tm_year=2016, tm_mon=1, tm_mday=13, tm_hour=19, tm_min=37, tm_sec=57, tm_wday=2, tm_yday=13, tm_isdst=0)\n",
      "________________________________________________________________________________\n",
      "Sleeping for a while...\n",
      ".zZ.ZzZ.\n",
      "I'm back!\n"
     ]
    }
   ],
   "source": [
    "from time import sleep, localtime  # the time module implements some tightly connected func'ties related to time\n",
    "print localtime()\n",
    "print \"_\" * 80\n",
    "print \"Sleeping for a while...\"\n",
    "print \".zZ.ZzZ.\"\n",
    "sleep(5)\n",
    "print \"I'm back!\""
   ]
  },
  {
   "cell_type": "markdown",
   "metadata": {},
   "source": [
    "Another way is to import a whole module, and then use individual functions, etc., from it, according to needs"
   ]
  },
  {
   "cell_type": "code",
   "execution_count": 38,
   "metadata": {
    "collapsed": false
   },
   "outputs": [
    {
     "name": "stdout",
     "output_type": "stream",
     "text": [
      "time.struct_time(tm_year=2016, tm_mon=1, tm_mday=13, tm_hour=19, tm_min=38, tm_sec=2, tm_wday=2, tm_yday=13, tm_isdst=0)\n",
      "________________________________________________________________________________\n",
      "Sleeping for a while...\n",
      ".zZ.ZzZ.\n",
      "I'm back!\n"
     ]
    }
   ],
   "source": [
    "import time\n",
    "print time.localtime()\n",
    "delay = 2\n",
    "print \"_\" * 80\n",
    "print \"Sleeping for a while...\"\n",
    "print \".zZ.ZzZ.\"\n",
    "time.sleep(delay)\n",
    "print \"I'm back!\"\n"
   ]
  },
  {
   "cell_type": "markdown",
   "metadata": {
    "collapsed": true
   },
   "source": [
    "OK, let's start some serious business: Globbing files\n",
    "====================================================="
   ]
  },
  {
   "cell_type": "code",
   "execution_count": 39,
   "metadata": {
    "collapsed": false
   },
   "outputs": [
    {
     "data": {
      "text/plain": [
       "[]"
      ]
     },
     "execution_count": 39,
     "metadata": {},
     "output_type": "execute_result"
    }
   ],
   "source": [
    "import glob\n",
    "glob.glob(\"*.py\")  # get all files in the current directory, with the .py extension"
   ]
  },
  {
   "cell_type": "code",
   "execution_count": 40,
   "metadata": {
    "collapsed": false
   },
   "outputs": [
    {
     "data": {
      "text/plain": [
       "['baby_python.ipynb']"
      ]
     },
     "execution_count": 40,
     "metadata": {},
     "output_type": "execute_result"
    }
   ],
   "source": [
    "glob.glob(\"*.ipynb\")  # get all files in the current directory, with the .ipynb extension"
   ]
  },
  {
   "cell_type": "code",
   "execution_count": 41,
   "metadata": {
    "collapsed": false
   },
   "outputs": [
    {
     "data": {
      "text/plain": [
       "['/home/elvis/nilearn_data/spm_auditory/sub001/fM00223/fM00223_004.img',\n",
       " '/home/elvis/nilearn_data/spm_auditory/sub001/fM00223/fM00223_008.img',\n",
       " '/home/elvis/nilearn_data/spm_auditory/sub001/fM00223/fM00223_009.img',\n",
       " '/home/elvis/nilearn_data/spm_auditory/sub001/fM00223/fM00223_006.img',\n",
       " '/home/elvis/nilearn_data/spm_auditory/sub001/fM00223/fM00223_005.img',\n",
       " '/home/elvis/nilearn_data/spm_auditory/sub001/fM00223/fM00223_007.img']"
      ]
     },
     "execution_count": 41,
     "metadata": {},
     "output_type": "execute_result"
    }
   ],
   "source": [
    "glob.glob(\"/home/elvis/nilearn_data/spm_auditory/sub001/fM00223/fM00223_00*.img\")[:6]  # XXX use other path on ur pc"
   ]
  },
  {
   "cell_type": "markdown",
   "metadata": {},
   "source": [
    "Plotting\n",
    "========"
   ]
  },
  {
   "cell_type": "markdown",
   "metadata": {},
   "source": [
    "Curves\n",
    "------"
   ]
  },
  {
   "cell_type": "code",
   "execution_count": 42,
   "metadata": {
    "collapsed": false
   },
   "outputs": [],
   "source": [
    "%matplotlib inline"
   ]
  },
  {
   "cell_type": "code",
   "execution_count": 43,
   "metadata": {
    "collapsed": false
   },
   "outputs": [
    {
     "data": {
      "text/plain": [
       "<matplotlib.text.Text at 0xb0a571ac>"
      ]
     },
     "execution_count": 43,
     "metadata": {},
     "output_type": "execute_result"
    },
    {
     "data": {
      "image/png": "[encoded data removed]",
      "text/plain": [
       "<matplotlib.figure.Figure at 0xb0b438cc>"
      ]
     },
     "metadata": {},
     "output_type": "display_data"
    }
   ],
   "source": [
    "import numpy as np  # the numpy package is the numerical workhorse of python, from a scicomp perspective\n",
    "import matplotlib.pyplot as plt  # import plotting tool\n",
    "x = np.linspace(-1, 2, num=500)\n",
    "y = .5 * x ** 2 - x\n",
    "plt.plot(x, y)\n",
    "plt.title(\"A quadratic curve\")\n",
    "plt.xlabel(\"x\")\n",
    "plt.ylabel(\"y\")"
   ]
  },
  {
   "cell_type": "markdown",
   "metadata": {},
   "source": [
    "Many curves on the same plot:"
   ]
  },
  {
   "cell_type": "code",
   "execution_count": 44,
   "metadata": {
    "collapsed": false
   },
   "outputs": [
    {
     "data": {
      "image/png": "[encoded data removed]",
      "text/plain": [
       "<matplotlib.figure.Figure at 0xb0a65fac>"
      ]
     },
     "metadata": {},
     "output_type": "display_data"
    }
   ],
   "source": [
    "for alpha in [-1, .5, 1]:\n",
    "    y = alpha * x ** 2 - x\n",
    "    plt.plot(x, y,\n",
    "             label=\"alpha = %g\" % alpha  # legend for this particular curve\n",
    "            )\n",
    "plt.legend(loc=\"best\")  # make legend box on figure, and choose an optimal position for it\n",
    "plt.title(\"Quadratic curves\")\n",
    "plt.xlabel(\"x\")\n",
    "plt.ylabel(\"y\")\n",
    "plt.grid(\"on\")  # funky stuff"
   ]
  },
  {
   "cell_type": "markdown",
   "metadata": {},
   "source": [
    "Histograms\n",
    "----------"
   ]
  },
  {
   "cell_type": "code",
   "execution_count": 45,
   "metadata": {
    "collapsed": false
   },
   "outputs": [
    {
     "data": {
      "text/plain": [
       "(array([   1.,    0.,    0.,    2.,    4.,    8.,    5.,    6.,   26.,\n",
       "          49.,   56.,   73.,   87.,  126.,  149.,  156.,  162.,  173.,\n",
       "         189.,  152.,  132.,  133.,   94.,   86.,   46.,   23.,   19.,\n",
       "          24.,   14.,    2.,    2.,    1.]),\n",
       " array([-3.8325529 , -3.61064891, -3.38874493, -3.16684095, -2.94493696,\n",
       "        -2.72303298, -2.501129  , -2.27922501, -2.05732103, -1.83541704,\n",
       "        -1.61351306, -1.39160908, -1.16970509, -0.94780111, -0.72589712,\n",
       "        -0.50399314, -0.28208916, -0.06018517,  0.16171881,  0.38362279,\n",
       "         0.60552678,  0.82743076,  1.04933475,  1.27123873,  1.49314271,\n",
       "         1.7150467 ,  1.93695068,  2.15885466,  2.38075865,  2.60266263,\n",
       "         2.82456662,  3.0464706 ,  3.26837458]),\n",
       " <a list of 32 Patch objects>)"
      ]
     },
     "execution_count": 45,
     "metadata": {},
     "output_type": "execute_result"
    },
    {
     "data": {
      "image/png": "[encoded data removed]",
      "text/plain": [
       "<matplotlib.figure.Figure at 0xb0a6b88c>"
      ]
     },
     "metadata": {},
     "output_type": "display_data"
    }
   ],
   "source": [
    "data = np.random.randn(2000)  # generate 2000 points from a 1D standard gaussian\n",
    "plt.hist(data, bins=32)"
   ]
  },
  {
   "cell_type": "code",
   "execution_count": null,
   "metadata": {
    "collapsed": true
   },
   "outputs": [],
   "source": []
  },
  {
   "cell_type": "markdown",
   "metadata": {},
   "source": [
    "Scatter plots\n",
    "-------------"
   ]
  },
  {
   "cell_type": "code",
   "execution_count": 46,
   "metadata": {
    "collapsed": false
   },
   "outputs": [
    {
     "data": {
      "text/plain": [
       "<matplotlib.text.Text at 0xb075002c>"
      ]
     },
     "execution_count": 46,
     "metadata": {},
     "output_type": "execute_result"
    },
    {
     "data": {
      "image/png": "[encoded data removed]",
      "text/plain": [
       "<matplotlib.figure.Figure at 0xb08eaecc>"
      ]
     },
     "metadata": {},
     "output_type": "display_data"
    }
   ],
   "source": [
    "n = 1000\n",
    "points = np.random.randn(n, 2)  # generate points from a 2D standard gaussian\n",
    "plt.scatter(points[:, 0], points[:, 1],\n",
    "            marker=\"o\",  # shape of the points in the visualization\n",
    "            color=\"green\",\n",
    "            s=50,  # size of the points in the plots\n",
    "           )\n",
    "plt.title(\"%i points from a 2D standard Gaussian\" % n)\n",
    "plt.xlabel(\"x\")\n",
    "plt.ylabel(\"y\")"
   ]
  },
  {
   "cell_type": "markdown",
   "metadata": {},
   "source": [
    "Error bars\n",
    "----------"
   ]
  },
  {
   "cell_type": "code",
   "execution_count": 47,
   "metadata": {
    "collapsed": false
   },
   "outputs": [
    {
     "data": {
      "image/png": "[encoded data removed]",
      "text/plain": [
       "<matplotlib.figure.Figure at 0xb0b3cfcc>"
      ]
     },
     "metadata": {},
     "output_type": "display_data"
    }
   ],
   "source": [
    "x = np.linspace(-3, 4, num=100)\n",
    "mean_y = 2 * x ** 2 + x - 1\n",
    "noise_amplitude = 7\n",
    "noise = noise_amplitude * np.random.randn(10, len(mean_y))\n",
    "noisy_y = mean_y + noise\n",
    "std_y = noisy_y.std(axis=0)\n",
    "plt.errorbar(x, mean_y, yerr=std_y, linewidth=2)\n",
    "plt.xlabel(\"x\")\n",
    "plt.ylabel(\"y\")\n",
    "plt.grid(\"on\")"
   ]
  },
  {
   "cell_type": "markdown",
   "metadata": {},
   "source": [
    "Another way to do error bars is:"
   ]
  },
  {
   "cell_type": "code",
   "execution_count": 48,
   "metadata": {
    "collapsed": false
   },
   "outputs": [
    {
     "data": {
      "image/png": "[encoded data removed]",
      "text/plain": [
       "<matplotlib.figure.Figure at 0xb066d6cc>"
      ]
     },
     "metadata": {},
     "output_type": "display_data"
    }
   ],
   "source": [
    "plt.plot(x, mean_y, c=\"b\", linewidth=2)\n",
    "plt.fill_between(x, mean_y - std_y, mean_y + std_y, color=\"r\")\n",
    "plt.xlabel(\"x\")\n",
    "plt.ylabel(\"y\")\n",
    "plt.grid(\"on\")"
   ]
  },
  {
   "cell_type": "markdown",
   "metadata": {},
   "source": [
    "Color bars\n",
    "=========="
   ]
  },
  {
   "cell_type": "code",
   "execution_count": 49,
   "metadata": {
    "collapsed": false
   },
   "outputs": [
    {
     "name": "stderr",
     "output_type": "stream",
     "text": [
      "/home/elvis/.local/lib/python2.7/site-packages/PIL/Image.py:84: RuntimeWarning: The _imaging extension was built for another  version of Pillow or PIL\n",
      "  warnings.warn(str(v), RuntimeWarning)\n"
     ]
    },
    {
     "data": {
      "text/plain": [
       "<matplotlib.colorbar.Colorbar at 0xb09576ac>"
      ]
     },
     "execution_count": 49,
     "metadata": {},
     "output_type": "execute_result"
    },
    {
     "data": {
      "image/png": "[encoded data removed]",
      "text/plain": [
       "<matplotlib.figure.Figure at 0xb08f924c>"
      ]
     },
     "metadata": {},
     "output_type": "display_data"
    }
   ],
   "source": [
    "from sklearn.datasets import fetch_mldata  # sklearn's fetcher for machine learning datasets\n",
    "mnist = fetch_mldata(\"MNIST original\")  # fetch MNIST \"handwritten digits\" dataset\n",
    "plt.matshow(mnist.data[30020].reshape((28, 28)))  # get a single image reshape it into a square image, then plot it\n",
    "plt.axis(\"off\")  # switch off xtics and labels on axes\n",
    "plt.colorbar()  # add the colorbar"
   ]
  },
  {
   "cell_type": "markdown",
   "metadata": {},
   "source": [
    "Subplots\n",
    "========"
   ]
  },
  {
   "cell_type": "code",
   "execution_count": 53,
   "metadata": {
    "collapsed": false
   },
   "outputs": [
    {
     "data": {
      "image/png": "[encoded data removed]",
      "text/plain": [
       "<matplotlib.figure.Figure at 0xaa1aeb2c>"
      ]
     },
     "metadata": {},
     "output_type": "display_data"
    }
   ],
   "source": [
    "n_cols = 7\n",
    "plt.figure(figsize=(20, 7))\n",
    "for i in range(n_cols):\n",
    "    ax = plt.subplot(\"1%i%i\" % (n_cols, i))  # figure has 1 row, and a number of columns; select the ith column\n",
    "    ax.matshow(mnist.data[30020 + 2 * i].reshape((28, 28)))\n",
    "    ax.axis(\"off\")\n"
   ]
  },
  {
   "cell_type": "markdown",
   "metadata": {},
   "source": [
    "Exercise\n",
    "--------"
   ]
  },
  {
   "cell_type": "markdown",
   "metadata": {},
   "source": [
    "Do the same plots but with 2 rows and 3 columns\n"
   ]
  },
  {
   "cell_type": "markdown",
   "metadata": {},
   "source": [
    "Basic statistics\n",
    "================"
   ]
  },
  {
   "cell_type": "markdown",
   "metadata": {},
   "source": [
    "Computing percentiles\n",
    "---------------------"
   ]
  },
  {
   "cell_type": "code",
   "execution_count": 51,
   "metadata": {
    "collapsed": false
   },
   "outputs": [
    {
     "data": {
      "text/plain": [
       "50.0"
      ]
     },
     "execution_count": 51,
     "metadata": {},
     "output_type": "execute_result"
    }
   ],
   "source": [
    "from scipy import stats\n",
    "a = np.arange(10)\n",
    "stats.percentileofscore(a, 4)"
   ]
  },
  {
   "cell_type": "markdown",
   "metadata": {},
   "source": [
    "If the values were aranged in increasing order, what would be the boundary value for the top 5% ?"
   ]
  },
  {
   "cell_type": "code",
   "execution_count": 54,
   "metadata": {
    "collapsed": false
   },
   "outputs": [
    {
     "data": {
      "text/plain": [
       "8.5499999999999989"
      ]
     },
     "execution_count": 54,
     "metadata": {},
     "output_type": "execute_result"
    }
   ],
   "source": [
    "stats.scoreatpercentile(a, 95)"
   ]
  },
  {
   "cell_type": "code",
   "execution_count": null,
   "metadata": {
    "collapsed": true
   },
   "outputs": [],
   "source": []
  }
 ],
 "metadata": {
  "kernelspec": {
   "display_name": "Python 2",
   "language": "python",
   "name": "python2"
  },
  "language_info": {
   "codemirror_mode": {
    "name": "ipython",
    "version": 2
   },
   "file_extension": ".py",
   "mimetype": "text/x-python",
   "name": "python",
   "nbconvert_exporter": "python",
   "pygments_lexer": "ipython2",
   "version": "2.7.10"
  }
 },
 "nbformat": 4,
 "nbformat_minor": 0
}
